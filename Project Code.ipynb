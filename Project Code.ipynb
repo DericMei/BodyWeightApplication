{
 "cells": [
  {
   "cell_type": "markdown",
   "metadata": {},
   "source": [
    "# My Body Weight Web Application"
   ]
  },
  {
   "cell_type": "markdown",
   "metadata": {},
   "source": [
    "## Introduction\n",
    "This part briefly explains the objectives of this project.\n",
    "I was fat for as long as I could remember before 2014, my body weight was constantly over 230lbs and reached a peak over 250lbs in the year of 2014.  \n",
    "Thats when I finally decided to lose weight.\n",
    "I did lots of researches online and tried out so many different stuff myself and finally successfully lost 100 lbs in a year and began my fitness journey ever since.   \n",
    "I got my personal trainer certificate from American Council on Exercise (ACE) and I am a certifited nutritional specialist from ACE as well. I learned how to be fit and stay fit.   \n",
    "Thats when I started to monitor my body weight constantly. I lost a year or two of body weight data initially because I was using another app.   \n",
    "After doing the last project which is just for exploratory purposes, now I believe I can use my newly learned skills to build a web application of my own to do the job where I would do manually automatically for me.\n",
    "Below is a picture of my personal body transformation of before and after. Check it out!!\n",
    "\n",
    "<img src=\"https://raw.githubusercontent.com/DericMei/Body-Weight-Project/main/Pictures/IMG_0260.JPG\" width=\"800\" height=\"500\"/>"
   ]
  },
  {
   "cell_type": "markdown",
   "metadata": {},
   "source": [
    "## Background Knowledge\n",
    "\n",
    "One kg of pure fat is equal to 7700 calories. For cutting, which is a fancy way for bodybuilders to say weight loss, normally the best way to track progress is to follow the steps below:\n",
    "1. Record body weight every morning after waking up after peeing before drinking water (for consistency).\n",
    "2. Calculate weekly average body weight after a whole week.\n",
    "3. Compare the weekly average after every week with the data from last week.\n",
    "4. Calculate the difference and use this kg value to multiply 7700 to know exactly how much caloric deficit one is in.\n",
    "There is no easy to use app in the market right now that I could find that does this job easily. Every year, after winter, when I am in my normal cutting phase, I will have to manually record my body weight everyday, set a day point for weekly summary, and every week, calculate my weekly average and manually do all the calculations to figure out if I am on the right track of cutting. This is extremely painful for me. Now with the knowledge I have right now, I could build this perfect web application for myself that does the job for me. Hope you can learn something from this if you want to lose some weight!\n",
    "\n",
    "Example:\n",
    "Say if my weekly average for last week is 80kg, and 79.5kg for this week, then the difference is 0.5kg, using it to multiply 7700 calories, I get 3350 calories. This means that over the past week, my caloric defict is roughtly around this number, I can further use this number to calculate daily caloric deficit, where I can get roughly 500 calories. This is a good amount. Right now I am trying to stay at around 800 calories daily caloric deficit and I haven't manually calculated yet since I am too lazy. Hope this project can help me find out!!!!"
   ]
  },
  {
   "cell_type": "markdown",
   "metadata": {},
   "source": [
    "## Objectives\n",
    "\n",
    "Eventually, for this project, I want to create a web application where I can record my body weight everyday and making it calculate my weekly averages, monthly averages, showing trends with a dashboard, and possibly come up with insights for me to see. For a cutting phase, I would normally do all these every week manually in order to understand how my cut is going.\n",
    "For the web application, I need it to have the following functions:\n",
    "- Record daily weight (A place I can enter my daily weight)\n",
    "- It will auto update the cloud database where I store all my body weight data after entering body weight each day (or by auto updating the latest record if not manually entered, in case I forget to enter)\n",
    "    - This is what I would do in practice and what I recommend everyone does when you are cutting, for better result and more consistant recording.\n",
    "- It will show a weekly summary for the week I am in to display my weekly average body weight, and the difference comparing to last week. \n",
    "    - It contains summarize wording to show weekly average for the current week at this moment.\n",
    "    - It shows the weekly average for the last week to compare\n",
    "    - It shows the difference between last week's average and this week's average and makes a comment about it\n",
    "    \n",
    "    \n"
   ]
  },
  {
   "cell_type": "markdown",
   "metadata": {},
   "source": [
    "## Import Packages"
   ]
  },
  {
   "cell_type": "code",
   "execution_count": 1,
   "metadata": {},
   "outputs": [
    {
     "name": "stderr",
     "output_type": "stream",
     "text": [
      "/var/folders/r4/2nk84h69255dy1q5js59_1b40000gn/T/ipykernel_76711/365623870.py:1: DeprecationWarning: \n",
      "Pyarrow will become a required dependency of pandas in the next major release of pandas (pandas 3.0),\n",
      "(to allow more performant data types, such as the Arrow string type, and better interoperability with other libraries)\n",
      "but was not found to be installed on your system.\n",
      "If this would cause problems for you,\n",
      "please provide us feedback at https://github.com/pandas-dev/pandas/issues/54466\n",
      "        \n",
      "  import pandas as pd\n"
     ]
    }
   ],
   "source": [
    "import pandas as pd\n",
    "import numpy as np\n",
    "import matplotlib.pyplot as plt\n",
    "import plotly.express as px\n",
    "import plotly.graph_objects as go\n",
    "import sqlite3\n",
    "from sqlite3 import Error\n",
    "from sqlalchemy import create_engine\n",
    "import os\n",
    "from dotenv import load_dotenv"
   ]
  },
  {
   "cell_type": "markdown",
   "metadata": {},
   "source": [
    "## Data Cleaning"
   ]
  },
  {
   "cell_type": "code",
   "execution_count": 2,
   "metadata": {},
   "outputs": [
    {
     "data": {
      "text/html": [
       "<div>\n",
       "<style scoped>\n",
       "    .dataframe tbody tr th:only-of-type {\n",
       "        vertical-align: middle;\n",
       "    }\n",
       "\n",
       "    .dataframe tbody tr th {\n",
       "        vertical-align: top;\n",
       "    }\n",
       "\n",
       "    .dataframe thead th {\n",
       "        text-align: right;\n",
       "    }\n",
       "</style>\n",
       "<table border=\"1\" class=\"dataframe\">\n",
       "  <thead>\n",
       "    <tr style=\"text-align: right;\">\n",
       "      <th></th>\n",
       "      <th>type</th>\n",
       "      <th>sourceName</th>\n",
       "      <th>sourceVersion</th>\n",
       "      <th>productType</th>\n",
       "      <th>device</th>\n",
       "      <th>startDate</th>\n",
       "      <th>endDate</th>\n",
       "      <th>unit</th>\n",
       "      <th>value</th>\n",
       "      <th>HKWasUserEntered</th>\n",
       "      <th>HKExternalUUID</th>\n",
       "    </tr>\n",
       "  </thead>\n",
       "  <tbody>\n",
       "    <tr>\n",
       "      <th>0</th>\n",
       "      <td>HKQuantityTypeIdentifierBodyMass</td>\n",
       "      <td>Health</td>\n",
       "      <td>10.0.2</td>\n",
       "      <td>iPhone8,2</td>\n",
       "      <td>NaN</td>\n",
       "      <td>2016-09-28 18:24:46 +0000</td>\n",
       "      <td>2016-09-28 18:24:46 +0000</td>\n",
       "      <td>kg</td>\n",
       "      <td>77.110640</td>\n",
       "      <td>NaN</td>\n",
       "      <td>NaN</td>\n",
       "    </tr>\n",
       "    <tr>\n",
       "      <th>1</th>\n",
       "      <td>HKQuantityTypeIdentifierBodyMass</td>\n",
       "      <td>Zijie的 iPhone</td>\n",
       "      <td>11.1.2</td>\n",
       "      <td>iPhone10,3</td>\n",
       "      <td>NaN</td>\n",
       "      <td>2017-12-18 06:09:09 +0000</td>\n",
       "      <td>2017-12-18 06:09:09 +0000</td>\n",
       "      <td>kg</td>\n",
       "      <td>80.000000</td>\n",
       "      <td>NaN</td>\n",
       "      <td>NaN</td>\n",
       "    </tr>\n",
       "    <tr>\n",
       "      <th>2</th>\n",
       "      <td>HKQuantityTypeIdentifierBodyMass</td>\n",
       "      <td>Zijie的 iPhone</td>\n",
       "      <td>11.2.2</td>\n",
       "      <td>iPhone10,3</td>\n",
       "      <td>NaN</td>\n",
       "      <td>2018-04-26 01:38:50 +0000</td>\n",
       "      <td>2018-04-26 01:38:50 +0000</td>\n",
       "      <td>kg</td>\n",
       "      <td>83.000000</td>\n",
       "      <td>NaN</td>\n",
       "      <td>NaN</td>\n",
       "    </tr>\n",
       "    <tr>\n",
       "      <th>3</th>\n",
       "      <td>HKQuantityTypeIdentifierBodyMass</td>\n",
       "      <td>Zijie的 iPhone</td>\n",
       "      <td>11.2.2</td>\n",
       "      <td>iPhone10,3</td>\n",
       "      <td>NaN</td>\n",
       "      <td>2018-05-07 17:26:47 +0000</td>\n",
       "      <td>2018-05-07 17:26:47 +0000</td>\n",
       "      <td>kg</td>\n",
       "      <td>83.000000</td>\n",
       "      <td>NaN</td>\n",
       "      <td>NaN</td>\n",
       "    </tr>\n",
       "    <tr>\n",
       "      <th>4</th>\n",
       "      <td>HKQuantityTypeIdentifierBodyMass</td>\n",
       "      <td>Health</td>\n",
       "      <td>11.3.1</td>\n",
       "      <td>iPhone10,3</td>\n",
       "      <td>NaN</td>\n",
       "      <td>2018-05-08 23:53:00 +0000</td>\n",
       "      <td>2018-05-08 23:53:00 +0000</td>\n",
       "      <td>kg</td>\n",
       "      <td>82.372374</td>\n",
       "      <td>1.0</td>\n",
       "      <td>NaN</td>\n",
       "    </tr>\n",
       "  </tbody>\n",
       "</table>\n",
       "</div>"
      ],
      "text/plain": [
       "                               type     sourceName sourceVersion productType  \\\n",
       "0  HKQuantityTypeIdentifierBodyMass         Health        10.0.2   iPhone8,2   \n",
       "1  HKQuantityTypeIdentifierBodyMass  Zijie的 iPhone        11.1.2  iPhone10,3   \n",
       "2  HKQuantityTypeIdentifierBodyMass  Zijie的 iPhone        11.2.2  iPhone10,3   \n",
       "3  HKQuantityTypeIdentifierBodyMass  Zijie的 iPhone        11.2.2  iPhone10,3   \n",
       "4  HKQuantityTypeIdentifierBodyMass         Health        11.3.1  iPhone10,3   \n",
       "\n",
       "   device                  startDate                    endDate unit  \\\n",
       "0     NaN  2016-09-28 18:24:46 +0000  2016-09-28 18:24:46 +0000   kg   \n",
       "1     NaN  2017-12-18 06:09:09 +0000  2017-12-18 06:09:09 +0000   kg   \n",
       "2     NaN  2018-04-26 01:38:50 +0000  2018-04-26 01:38:50 +0000   kg   \n",
       "3     NaN  2018-05-07 17:26:47 +0000  2018-05-07 17:26:47 +0000   kg   \n",
       "4     NaN  2018-05-08 23:53:00 +0000  2018-05-08 23:53:00 +0000   kg   \n",
       "\n",
       "       value  HKWasUserEntered HKExternalUUID  \n",
       "0  77.110640               NaN            NaN  \n",
       "1  80.000000               NaN            NaN  \n",
       "2  83.000000               NaN            NaN  \n",
       "3  83.000000               NaN            NaN  \n",
       "4  82.372374               1.0            NaN  "
      ]
     },
     "execution_count": 2,
     "metadata": {},
     "output_type": "execute_result"
    }
   ],
   "source": [
    "# Read in data\n",
    "filepath = 'bodyweight.csv'\n",
    "df = pd.read_csv(filepath)\n",
    "df.head()"
   ]
  },
  {
   "cell_type": "code",
   "execution_count": 3,
   "metadata": {},
   "outputs": [
    {
     "data": {
      "text/html": [
       "<div>\n",
       "<style scoped>\n",
       "    .dataframe tbody tr th:only-of-type {\n",
       "        vertical-align: middle;\n",
       "    }\n",
       "\n",
       "    .dataframe tbody tr th {\n",
       "        vertical-align: top;\n",
       "    }\n",
       "\n",
       "    .dataframe thead th {\n",
       "        text-align: right;\n",
       "    }\n",
       "</style>\n",
       "<table border=\"1\" class=\"dataframe\">\n",
       "  <thead>\n",
       "    <tr style=\"text-align: right;\">\n",
       "      <th></th>\n",
       "      <th>date</th>\n",
       "      <th>weight</th>\n",
       "    </tr>\n",
       "  </thead>\n",
       "  <tbody>\n",
       "    <tr>\n",
       "      <th>0</th>\n",
       "      <td>2016-09-28</td>\n",
       "      <td>77.110640</td>\n",
       "    </tr>\n",
       "    <tr>\n",
       "      <th>1</th>\n",
       "      <td>2017-12-18</td>\n",
       "      <td>80.000000</td>\n",
       "    </tr>\n",
       "    <tr>\n",
       "      <th>2</th>\n",
       "      <td>2018-04-26</td>\n",
       "      <td>83.000000</td>\n",
       "    </tr>\n",
       "    <tr>\n",
       "      <th>3</th>\n",
       "      <td>2018-05-07</td>\n",
       "      <td>83.000000</td>\n",
       "    </tr>\n",
       "    <tr>\n",
       "      <th>4</th>\n",
       "      <td>2018-05-08</td>\n",
       "      <td>82.372374</td>\n",
       "    </tr>\n",
       "    <tr>\n",
       "      <th>...</th>\n",
       "      <td>...</td>\n",
       "      <td>...</td>\n",
       "    </tr>\n",
       "    <tr>\n",
       "      <th>1534</th>\n",
       "      <td>2024-01-20</td>\n",
       "      <td>85.400101</td>\n",
       "    </tr>\n",
       "    <tr>\n",
       "      <th>1535</th>\n",
       "      <td>2024-01-21</td>\n",
       "      <td>85.299860</td>\n",
       "    </tr>\n",
       "    <tr>\n",
       "      <th>1536</th>\n",
       "      <td>2024-01-22</td>\n",
       "      <td>85.400101</td>\n",
       "    </tr>\n",
       "    <tr>\n",
       "      <th>1537</th>\n",
       "      <td>2024-01-23</td>\n",
       "      <td>86.300032</td>\n",
       "    </tr>\n",
       "    <tr>\n",
       "      <th>1538</th>\n",
       "      <td>2024-01-24</td>\n",
       "      <td>85.400073</td>\n",
       "    </tr>\n",
       "  </tbody>\n",
       "</table>\n",
       "<p>1539 rows × 2 columns</p>\n",
       "</div>"
      ],
      "text/plain": [
       "            date     weight\n",
       "0     2016-09-28  77.110640\n",
       "1     2017-12-18  80.000000\n",
       "2     2018-04-26  83.000000\n",
       "3     2018-05-07  83.000000\n",
       "4     2018-05-08  82.372374\n",
       "...          ...        ...\n",
       "1534  2024-01-20  85.400101\n",
       "1535  2024-01-21  85.299860\n",
       "1536  2024-01-22  85.400101\n",
       "1537  2024-01-23  86.300032\n",
       "1538  2024-01-24  85.400073\n",
       "\n",
       "[1539 rows x 2 columns]"
      ]
     },
     "execution_count": 3,
     "metadata": {},
     "output_type": "execute_result"
    }
   ],
   "source": [
    "# since I am only interested in the date and weight I am only keeping these 2 rows\n",
    "df = df[['startDate', 'value']]\n",
    "\n",
    "# renaming columns\n",
    "df = df.rename(columns={'startDate': 'date', 'value': 'weight'})\n",
    "\n",
    "# changing the formate of the date column\n",
    "df['date'] = pd.to_datetime(df['date'])\n",
    "df['date'] = df['date'].dt.date\n",
    "df"
   ]
  },
  {
   "cell_type": "code",
   "execution_count": 4,
   "metadata": {},
   "outputs": [],
   "source": [
    "# Creating a function to plot weight over time easily later when cleaning up data\n",
    "\n",
    "def plot_weight_over_time(df):\n",
    "    # Make a copy of the dataframe to ensure the original data is not affected\n",
    "    df_plot = df.copy()\n",
    "\n",
    "    # Convert the 'date' column to datetime if it's not already\n",
    "    df_plot['date'] = pd.to_datetime(df_plot['date'])\n",
    "    \n",
    "    # Ensure that the 'date' column is the index of the DataFrame for time series plotting\n",
    "    df_plot.set_index('date', inplace=True)\n",
    "\n",
    "    # Sort the DataFrame by the index (date) to ensure correct plotting\n",
    "    df_plot.sort_index(inplace=True)\n",
    "\n",
    "    # Plotting the data\n",
    "    plt.figure(figsize=(15, 5))  # Adjust the size as needed\n",
    "    plt.plot(df_plot.index, df_plot['weight'], marker='o', linestyle='-', color='green')\n",
    "\n",
    "    # Improving the aesthetics\n",
    "    plt.title('Weight Over Time')\n",
    "    plt.xlabel('Date')\n",
    "    plt.ylabel('Weight (kg)')\n",
    "    plt.grid(True)\n",
    "    plt.xticks(rotation=45)  # Rotates the date labels to avoid overlap\n",
    "\n",
    "    # Handling missing values by breaking the line at missing dates\n",
    "    plt.gca().set_prop_cycle(None)  # Reset the color cycle to reuse the first color\n",
    "\n",
    "    # Show only the points where the 'weight' is not missing\n",
    "    for date, weight in df_plot.dropna().iterrows():\n",
    "        plt.plot(date, weight, marker='o', linestyle='', color='red')\n",
    "\n",
    "    # Show the plot\n",
    "    plt.tight_layout()  # Adjust subplot params so that the subplot(s) fits in to the figure area.\n",
    "    plt.show()"
   ]
  },
  {
   "cell_type": "code",
   "execution_count": 5,
   "metadata": {},
   "outputs": [
    {
     "data": {
      "image/png": "[encoded data removed]",
      "text/plain": [
       "<Figure size 1500x500 with 1 Axes>"
      ]
     },
     "metadata": {},
     "output_type": "display_data"
    }
   ],
   "source": [
    "plot_weight_over_time(df)"
   ]
  },
  {
   "cell_type": "markdown",
   "metadata": {},
   "source": [
    "There are tons of missing values here, shame on me for not recording consistantly T_T.\n",
    "To handle these data and make my model more consistant, I need to do some processing with these data. \n",
    "- First I cannot seem to use any data before spring of 2018 because there is only 2 data points. \n",
    "- Second, there is one outlier in later 2020 where I recorded about 40 kg for my date, I think it might just be a typo when I was recording.\n",
    "- Then because of some missing value in the middle here and there, I need to find a logic to fill up those missing values to make data more consistant."
   ]
  },
  {
   "cell_type": "code",
   "execution_count": 6,
   "metadata": {},
   "outputs": [],
   "source": [
    "# Droping first 2 data points\n",
    "df = df.drop(df.index[0:2])\n",
    "\n",
    "# Droping the low data point in late 2020\n",
    "df = df[df['weight'] > 50]"
   ]
  },
  {
   "cell_type": "code",
   "execution_count": 7,
   "metadata": {},
   "outputs": [],
   "source": [
    "# write a function to fill in all the missing values for weight to make sure there is a weight value for each date.\n",
    "# Basic logic here is for any missing weight, find the last recorded date and nearest next record and fill in with the linear relationship using the pandas interpolate function.\n",
    "\n",
    "def fill_missing_values_with_interpolation(df, date_column='date', value_column='weight'):\n",
    "\n",
    "    df_new = df.copy()\n",
    "\n",
    "    # Ensure that 'date' is a datetime column\n",
    "    df_new[date_column] = pd.to_datetime(df_new[date_column])\n",
    "    \n",
    "    # Drop duplicates, keeping only the first entry for each date\n",
    "    df_new = df_new.drop_duplicates(subset=date_column)\n",
    "    \n",
    "    # Set 'date' as the DataFrame index\n",
    "    df_new.set_index(date_column, inplace=True)\n",
    "    \n",
    "    # Create a continuous date range from the start date to the end date\n",
    "    full_date_range = pd.date_range(start=df_new.index.min(), end=df_new.index.max(), freq='D')\n",
    "    \n",
    "    # Reindex the DataFrame with the full date range\n",
    "    df_new = df_new.reindex(full_date_range)\n",
    "    \n",
    "    # Interpolate missing 'weight' values using a time-weighted method\n",
    "    df_new[value_column] = df_new[value_column].interpolate(method='time')\n",
    "    \n",
    "    # Reset the index to turn the 'date' back into a column\n",
    "    df_new.reset_index(inplace=True)\n",
    "    \n",
    "    # Rename the index back to 'date'\n",
    "    df_new.rename(columns={'index': date_column}, inplace=True)\n",
    "    \n",
    "    return df_new"
   ]
  },
  {
   "cell_type": "code",
   "execution_count": 8,
   "metadata": {},
   "outputs": [],
   "source": [
    "# use the function to create a new dataframe that has continuous weight data\n",
    "df_final = fill_missing_values_with_interpolation(df)"
   ]
  },
  {
   "cell_type": "code",
   "execution_count": 9,
   "metadata": {},
   "outputs": [
    {
     "data": {
      "image/png": "[encoded data removed]",
      "text/plain": [
       "<Figure size 1500x500 with 1 Axes>"
      ]
     },
     "metadata": {},
     "output_type": "display_data"
    }
   ],
   "source": [
    "# plotting the dataframe to see if it is correct\n",
    "plot_weight_over_time(df_final)"
   ]
  },
  {
   "cell_type": "code",
   "execution_count": 10,
   "metadata": {},
   "outputs": [
    {
     "data": {
      "text/html": [
       "<div>\n",
       "<style scoped>\n",
       "    .dataframe tbody tr th:only-of-type {\n",
       "        vertical-align: middle;\n",
       "    }\n",
       "\n",
       "    .dataframe tbody tr th {\n",
       "        vertical-align: top;\n",
       "    }\n",
       "\n",
       "    .dataframe thead th {\n",
       "        text-align: right;\n",
       "    }\n",
       "</style>\n",
       "<table border=\"1\" class=\"dataframe\">\n",
       "  <thead>\n",
       "    <tr style=\"text-align: right;\">\n",
       "      <th></th>\n",
       "      <th>date</th>\n",
       "      <th>weight</th>\n",
       "    </tr>\n",
       "  </thead>\n",
       "  <tbody>\n",
       "    <tr>\n",
       "      <th>0</th>\n",
       "      <td>2018-04-26</td>\n",
       "      <td>83.0</td>\n",
       "    </tr>\n",
       "    <tr>\n",
       "      <th>1</th>\n",
       "      <td>2018-04-27</td>\n",
       "      <td>83.0</td>\n",
       "    </tr>\n",
       "    <tr>\n",
       "      <th>2</th>\n",
       "      <td>2018-04-28</td>\n",
       "      <td>83.0</td>\n",
       "    </tr>\n",
       "    <tr>\n",
       "      <th>3</th>\n",
       "      <td>2018-04-29</td>\n",
       "      <td>83.0</td>\n",
       "    </tr>\n",
       "    <tr>\n",
       "      <th>4</th>\n",
       "      <td>2018-04-30</td>\n",
       "      <td>83.0</td>\n",
       "    </tr>\n",
       "  </tbody>\n",
       "</table>\n",
       "</div>"
      ],
      "text/plain": [
       "        date  weight\n",
       "0 2018-04-26    83.0\n",
       "1 2018-04-27    83.0\n",
       "2 2018-04-28    83.0\n",
       "3 2018-04-29    83.0\n",
       "4 2018-04-30    83.0"
      ]
     },
     "execution_count": 10,
     "metadata": {},
     "output_type": "execute_result"
    }
   ],
   "source": [
    "df_final.head()"
   ]
  },
  {
   "cell_type": "code",
   "execution_count": 11,
   "metadata": {},
   "outputs": [
    {
     "data": {
      "text/plain": [
       "2100"
      ]
     },
     "execution_count": 11,
     "metadata": {},
     "output_type": "execute_result"
    }
   ],
   "source": [
    "len(df_final)"
   ]
  },
  {
   "cell_type": "markdown",
   "metadata": {},
   "source": [
    "From the plot, it is pretty clear that all the issues has been fixed, and the data is already been cleaned up. Now I am ready to move on to the next stage."
   ]
  },
  {
   "cell_type": "markdown",
   "metadata": {},
   "source": [
    "## Create SQLite database"
   ]
  },
  {
   "cell_type": "markdown",
   "metadata": {},
   "source": [
    "### Functions"
   ]
  },
  {
   "cell_type": "code",
   "execution_count": 12,
   "metadata": {},
   "outputs": [],
   "source": [
    "# Function to create a database connection\n",
    "def create_connection(db_file):\n",
    "    \"\"\"Create a database connection to a SQLite database.\"\"\"\n",
    "    conn = None\n",
    "    try:\n",
    "        conn = sqlite3.connect(db_file)\n",
    "        print(\"Connection established to database:\", db_file)\n",
    "    except Error as e:\n",
    "        print(e)\n",
    "    return conn"
   ]
  },
  {
   "cell_type": "code",
   "execution_count": 13,
   "metadata": {},
   "outputs": [],
   "source": [
    "# Function to create a table\n",
    "def create_table(conn, create_table_sql):\n",
    "    \"\"\"Create a table from the create_table_sql statement.\"\"\"\n",
    "    try:\n",
    "        c = conn.cursor()\n",
    "        c.execute(create_table_sql)\n",
    "        print(\"Table created successfully\")\n",
    "    except Error as e:\n",
    "        print(e)"
   ]
  },
  {
   "cell_type": "code",
   "execution_count": 14,
   "metadata": {},
   "outputs": [],
   "source": [
    "# Function to delete all records in my database when inserting\n",
    "def delete_all_records(conn, table_name):\n",
    "    \"\"\"\n",
    "    Delete all rows in the given table.\n",
    "    \"\"\"\n",
    "    sql = f'DELETE FROM {table_name};'\n",
    "    try:\n",
    "        cur = conn.cursor()\n",
    "        cur.execute(sql)\n",
    "        conn.commit()\n",
    "        print(\"All records deleted successfully\")\n",
    "    except Exception as e:\n",
    "        print(f\"An error occurred: {e}\")"
   ]
  },
  {
   "cell_type": "markdown",
   "metadata": {},
   "source": [
    "### Create SQLite database, table and insert data"
   ]
  },
  {
   "cell_type": "code",
   "execution_count": 15,
   "metadata": {},
   "outputs": [
    {
     "name": "stdout",
     "output_type": "stream",
     "text": [
      "Connection established to database: my_weight_tracker.db\n",
      "Table created successfully\n"
     ]
    }
   ],
   "source": [
    "# Create the database and the table\n",
    "database = \"my_weight_tracker.db\"\n",
    "\n",
    "sql_create_weight_records_table = \"\"\" CREATE TABLE IF NOT EXISTS weight_records (\n",
    "                                        date text NOT NULL,\n",
    "                                        weight real NOT NULL\n",
    "                                    ); \"\"\"\n",
    "\n",
    "conn = create_connection(database)\n",
    "\n",
    "if conn is not None:\n",
    "    create_table(conn, sql_create_weight_records_table)\n",
    "else:\n",
    "    print(\"Error! cannot create the database connection.\")"
   ]
  },
  {
   "cell_type": "code",
   "execution_count": 16,
   "metadata": {},
   "outputs": [
    {
     "name": "stdout",
     "output_type": "stream",
     "text": [
      "All records deleted successfully\n"
     ]
    }
   ],
   "source": [
    "# Delete all records in the database table\n",
    "delete_all_records(conn, 'weight_records')"
   ]
  },
  {
   "cell_type": "code",
   "execution_count": 17,
   "metadata": {},
   "outputs": [
    {
     "data": {
      "text/plain": [
       "2100"
      ]
     },
     "execution_count": 17,
     "metadata": {},
     "output_type": "execute_result"
    }
   ],
   "source": [
    "# To make sure date column stays consistent when imported into database\n",
    "df_final['date'] = pd.to_datetime(df_final['date']).dt.date\n",
    "# Using pandas to import data into the sqlite database just created\n",
    "df_final.to_sql('weight_records', conn, if_exists='append', index=False)"
   ]
  },
  {
   "cell_type": "code",
   "execution_count": 18,
   "metadata": {},
   "outputs": [
    {
     "data": {
      "text/html": [
       "<div>\n",
       "<style scoped>\n",
       "    .dataframe tbody tr th:only-of-type {\n",
       "        vertical-align: middle;\n",
       "    }\n",
       "\n",
       "    .dataframe tbody tr th {\n",
       "        vertical-align: top;\n",
       "    }\n",
       "\n",
       "    .dataframe thead th {\n",
       "        text-align: right;\n",
       "    }\n",
       "</style>\n",
       "<table border=\"1\" class=\"dataframe\">\n",
       "  <thead>\n",
       "    <tr style=\"text-align: right;\">\n",
       "      <th></th>\n",
       "      <th>date</th>\n",
       "      <th>weight</th>\n",
       "    </tr>\n",
       "  </thead>\n",
       "  <tbody>\n",
       "    <tr>\n",
       "      <th>0</th>\n",
       "      <td>2018-04-26</td>\n",
       "      <td>83.000000</td>\n",
       "    </tr>\n",
       "    <tr>\n",
       "      <th>1</th>\n",
       "      <td>2018-04-27</td>\n",
       "      <td>83.000000</td>\n",
       "    </tr>\n",
       "    <tr>\n",
       "      <th>2</th>\n",
       "      <td>2018-04-28</td>\n",
       "      <td>83.000000</td>\n",
       "    </tr>\n",
       "    <tr>\n",
       "      <th>3</th>\n",
       "      <td>2018-04-29</td>\n",
       "      <td>83.000000</td>\n",
       "    </tr>\n",
       "    <tr>\n",
       "      <th>4</th>\n",
       "      <td>2018-04-30</td>\n",
       "      <td>83.000000</td>\n",
       "    </tr>\n",
       "    <tr>\n",
       "      <th>...</th>\n",
       "      <td>...</td>\n",
       "      <td>...</td>\n",
       "    </tr>\n",
       "    <tr>\n",
       "      <th>2095</th>\n",
       "      <td>2024-01-20</td>\n",
       "      <td>85.400101</td>\n",
       "    </tr>\n",
       "    <tr>\n",
       "      <th>2096</th>\n",
       "      <td>2024-01-21</td>\n",
       "      <td>85.299860</td>\n",
       "    </tr>\n",
       "    <tr>\n",
       "      <th>2097</th>\n",
       "      <td>2024-01-22</td>\n",
       "      <td>85.400101</td>\n",
       "    </tr>\n",
       "    <tr>\n",
       "      <th>2098</th>\n",
       "      <td>2024-01-23</td>\n",
       "      <td>86.300032</td>\n",
       "    </tr>\n",
       "    <tr>\n",
       "      <th>2099</th>\n",
       "      <td>2024-01-24</td>\n",
       "      <td>85.400073</td>\n",
       "    </tr>\n",
       "  </tbody>\n",
       "</table>\n",
       "<p>2100 rows × 2 columns</p>\n",
       "</div>"
      ],
      "text/plain": [
       "            date     weight\n",
       "0     2018-04-26  83.000000\n",
       "1     2018-04-27  83.000000\n",
       "2     2018-04-28  83.000000\n",
       "3     2018-04-29  83.000000\n",
       "4     2018-04-30  83.000000\n",
       "...          ...        ...\n",
       "2095  2024-01-20  85.400101\n",
       "2096  2024-01-21  85.299860\n",
       "2097  2024-01-22  85.400101\n",
       "2098  2024-01-23  86.300032\n",
       "2099  2024-01-24  85.400073\n",
       "\n",
       "[2100 rows x 2 columns]"
      ]
     },
     "execution_count": 18,
     "metadata": {},
     "output_type": "execute_result"
    }
   ],
   "source": [
    "# Verifing data insertion\n",
    "pd.read_sql_query(\"SELECT * FROM weight_records\", conn)\n"
   ]
  },
  {
   "cell_type": "markdown",
   "metadata": {},
   "source": [
    "Now the database table looks good to go!\n",
    "After investigations, SQLite does not support cloud services, I need to migrate my data into a cloud server database in order to make this application work.\n",
    "I am going with PostgreSQL."
   ]
  },
  {
   "cell_type": "markdown",
   "metadata": {},
   "source": [
    "## PostgreSQL database, table, and inserting data"
   ]
  },
  {
   "cell_type": "code",
   "execution_count": 19,
   "metadata": {},
   "outputs": [],
   "source": [
    "# Load the current environment variables\n",
    "load_dotenv()\n",
    "# Get credentials to connect\n",
    "database_url = os.getenv('DATABASE_URL')\n",
    "# Create the engine to connect to the PostgreSQL cloud database\n",
    "engine = create_engine(database_url)"
   ]
  },
  {
   "cell_type": "code",
   "execution_count": 20,
   "metadata": {},
   "outputs": [
    {
     "data": {
      "text/plain": [
       "100"
      ]
     },
     "execution_count": 20,
     "metadata": {},
     "output_type": "execute_result"
    }
   ],
   "source": [
    "# Create the table and insert all my data to the database\n",
    "df_final.to_sql('weight_records', engine, if_exists='replace', index=False)"
   ]
  },
  {
   "cell_type": "code",
   "execution_count": 21,
   "metadata": {},
   "outputs": [
    {
     "data": {
      "text/html": [
       "<div>\n",
       "<style scoped>\n",
       "    .dataframe tbody tr th:only-of-type {\n",
       "        vertical-align: middle;\n",
       "    }\n",
       "\n",
       "    .dataframe tbody tr th {\n",
       "        vertical-align: top;\n",
       "    }\n",
       "\n",
       "    .dataframe thead th {\n",
       "        text-align: right;\n",
       "    }\n",
       "</style>\n",
       "<table border=\"1\" class=\"dataframe\">\n",
       "  <thead>\n",
       "    <tr style=\"text-align: right;\">\n",
       "      <th></th>\n",
       "      <th>date</th>\n",
       "      <th>weight</th>\n",
       "    </tr>\n",
       "  </thead>\n",
       "  <tbody>\n",
       "    <tr>\n",
       "      <th>0</th>\n",
       "      <td>2018-04-26</td>\n",
       "      <td>83.000000</td>\n",
       "    </tr>\n",
       "    <tr>\n",
       "      <th>1</th>\n",
       "      <td>2018-04-27</td>\n",
       "      <td>83.000000</td>\n",
       "    </tr>\n",
       "    <tr>\n",
       "      <th>2</th>\n",
       "      <td>2018-04-28</td>\n",
       "      <td>83.000000</td>\n",
       "    </tr>\n",
       "    <tr>\n",
       "      <th>3</th>\n",
       "      <td>2018-04-29</td>\n",
       "      <td>83.000000</td>\n",
       "    </tr>\n",
       "    <tr>\n",
       "      <th>4</th>\n",
       "      <td>2018-04-30</td>\n",
       "      <td>83.000000</td>\n",
       "    </tr>\n",
       "    <tr>\n",
       "      <th>...</th>\n",
       "      <td>...</td>\n",
       "      <td>...</td>\n",
       "    </tr>\n",
       "    <tr>\n",
       "      <th>2095</th>\n",
       "      <td>2024-01-20</td>\n",
       "      <td>85.400101</td>\n",
       "    </tr>\n",
       "    <tr>\n",
       "      <th>2096</th>\n",
       "      <td>2024-01-21</td>\n",
       "      <td>85.299860</td>\n",
       "    </tr>\n",
       "    <tr>\n",
       "      <th>2097</th>\n",
       "      <td>2024-01-22</td>\n",
       "      <td>85.400101</td>\n",
       "    </tr>\n",
       "    <tr>\n",
       "      <th>2098</th>\n",
       "      <td>2024-01-23</td>\n",
       "      <td>86.300032</td>\n",
       "    </tr>\n",
       "    <tr>\n",
       "      <th>2099</th>\n",
       "      <td>2024-01-24</td>\n",
       "      <td>85.400073</td>\n",
       "    </tr>\n",
       "  </tbody>\n",
       "</table>\n",
       "<p>2100 rows × 2 columns</p>\n",
       "</div>"
      ],
      "text/plain": [
       "            date     weight\n",
       "0     2018-04-26  83.000000\n",
       "1     2018-04-27  83.000000\n",
       "2     2018-04-28  83.000000\n",
       "3     2018-04-29  83.000000\n",
       "4     2018-04-30  83.000000\n",
       "...          ...        ...\n",
       "2095  2024-01-20  85.400101\n",
       "2096  2024-01-21  85.299860\n",
       "2097  2024-01-22  85.400101\n",
       "2098  2024-01-23  86.300032\n",
       "2099  2024-01-24  85.400073\n",
       "\n",
       "[2100 rows x 2 columns]"
      ]
     },
     "execution_count": 21,
     "metadata": {},
     "output_type": "execute_result"
    }
   ],
   "source": [
    "# Verifing data insertion\n",
    "pd.read_sql_query(\"SELECT * FROM weight_records\", engine)"
   ]
  },
  {
   "cell_type": "markdown",
   "metadata": {},
   "source": [
    "My first Cloud based SQL database is good to go!!!!!!!!! So excited!!!\n",
    "\n",
    "Now, work is done here with jupyter notebook, time to move on to the .py file to create my dash application."
   ]
  }
 ],
 "metadata": {
  "kernelspec": {
   "display_name": "Python 3",
   "language": "python",
   "name": "python3"
  },
  "language_info": {
   "codemirror_mode": {
    "name": "ipython",
    "version": 3
   },
   "file_extension": ".py",
   "mimetype": "text/x-python",
   "name": "python",
   "nbconvert_exporter": "python",
   "pygments_lexer": "ipython3",
   "version": "3.11.5"
  }
 },
 "nbformat": 4,
 "nbformat_minor": 2
}
